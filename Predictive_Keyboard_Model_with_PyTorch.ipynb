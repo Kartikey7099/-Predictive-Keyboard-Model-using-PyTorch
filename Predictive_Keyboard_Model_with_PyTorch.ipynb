{
  "nbformat": 4,
  "nbformat_minor": 0,
  "metadata": {
    "colab": {
      "provenance": []
    },
    "kernelspec": {
      "name": "python3",
      "display_name": "Python 3"
    },
    "language_info": {
      "name": "python"
    }
  },
  "cells": [
    {
      "cell_type": "code",
      "source": [
        "import nltk\n",
        "from nltk.tokenize import word_tokenize\n",
        "nltk.download('punkt')\n",
        "nltk.download('punkt_tab')\n",
        "\n",
        "# load data\n",
        "with open('sherlock-holm.es_stories_plain-text_advs.txt', 'r', encoding='utf-8') as f:\n",
        "    text = f.read().lower()\n",
        "\n",
        "tokens = word_tokenize(text)\n",
        "print(\"Total Tokens:\", len(tokens))"
      ],
      "metadata": {
        "colab": {
          "base_uri": "https://localhost:8080/"
        },
        "id": "5u021v2PxHGj",
        "outputId": "6e57ffc2-e8cd-4887-a4ad-d5d19a8a646e"
      },
      "execution_count": 2,
      "outputs": [
        {
          "output_type": "stream",
          "name": "stderr",
          "text": [
            "[nltk_data] Downloading package punkt to /root/nltk_data...\n",
            "[nltk_data]   Unzipping tokenizers/punkt.zip.\n",
            "[nltk_data] Downloading package punkt_tab to /root/nltk_data...\n",
            "[nltk_data]   Unzipping tokenizers/punkt_tab.zip.\n"
          ]
        },
        {
          "output_type": "stream",
          "name": "stdout",
          "text": [
            "Total Tokens: 125772\n"
          ]
        }
      ]
    },
    {
      "cell_type": "code",
      "source": [
        "from collections import Counter\n",
        "\n",
        "word_counts = Counter(tokens)\n",
        "vocab = sorted(word_counts, key=word_counts.get, reverse=True)\n",
        "\n",
        "word2idx = {word: idx for idx, word in enumerate(vocab)}\n",
        "idx2word = {idx: word for word, idx in word2idx.items()}\n",
        "vocab_size = len(vocab)"
      ],
      "metadata": {
        "id": "UgfXk4nixaPK"
      },
      "execution_count": 3,
      "outputs": []
    },
    {
      "cell_type": "code",
      "source": [
        "import torch\n",
        "\n",
        "sequence_length = 4  # e.g., \"I am going to [predict this]\"\n",
        "\n",
        "data = []\n",
        "for i in range(len(tokens) - sequence_length):\n",
        "    input_seq = tokens[i:i + sequence_length - 1]\n",
        "    target = tokens[i + sequence_length - 1]\n",
        "    data.append((input_seq, target))\n",
        "\n",
        "# convert words to indices\n",
        "def encode(seq): return [word2idx[word] for word in seq]\n",
        "\n",
        "encoded_data = [(torch.tensor(encode(inp)), torch.tensor(word2idx[target]))\n",
        "                for inp, target in data]"
      ],
      "metadata": {
        "id": "8unk_oCMxcBB"
      },
      "execution_count": 5,
      "outputs": []
    },
    {
      "cell_type": "code",
      "source": [
        "import torch.nn as nn\n",
        "\n",
        "class PredictiveKeyboard(nn.Module):\n",
        "    def __init__(self, vocab_size, embed_dim=64, hidden_dim=128):\n",
        "        super(PredictiveKeyboard, self).__init__()\n",
        "        self.embedding = nn.Embedding(vocab_size, embed_dim)\n",
        "        self.lstm = nn.LSTM(embed_dim, hidden_dim, batch_first=True)\n",
        "        self.fc = nn.Linear(hidden_dim, vocab_size)\n",
        "\n",
        "    def forward(self, x):\n",
        "        x = self.embedding(x)\n",
        "        output, _ = self.lstm(x)\n",
        "        output = self.fc(output[:, -1, :])  # last LSTM output\n",
        "        return output"
      ],
      "metadata": {
        "id": "TN4hUzQOx1lo"
      },
      "execution_count": 6,
      "outputs": []
    },
    {
      "cell_type": "code",
      "source": [
        "import torch\n",
        "import torch.optim as optim\n",
        "import random\n",
        "\n",
        "model = PredictiveKeyboard(vocab_size)\n",
        "criterion = nn.CrossEntropyLoss()\n",
        "optimizer = optim.Adam(model.parameters(), lr=0.005)\n",
        "\n",
        "epochs = 20\n",
        "for epoch in range(epochs):\n",
        "    total_loss = 0\n",
        "    random.shuffle(encoded_data)\n",
        "    for input_seq, target in encoded_data[:10000]:  # Limit data for speed\n",
        "        input_seq = input_seq.unsqueeze(0)\n",
        "        output = model(input_seq)\n",
        "        loss = criterion(output, target.unsqueeze(0))\n",
        "\n",
        "        optimizer.zero_grad()\n",
        "        loss.backward()\n",
        "        optimizer.step()\n",
        "        total_loss += loss.item()\n",
        "\n",
        "    print(f\"Epoch {epoch+1}, Loss: {total_loss:.4f}\")"
      ],
      "metadata": {
        "colab": {
          "base_uri": "https://localhost:8080/"
        },
        "id": "l0dZqFeayNvw",
        "outputId": "994bb026-620a-43ef-c0c3-d39a760b6b53"
      },
      "execution_count": 7,
      "outputs": [
        {
          "output_type": "stream",
          "name": "stdout",
          "text": [
            "Epoch 1, Loss: 66994.3610\n",
            "Epoch 2, Loss: 67068.5349\n",
            "Epoch 3, Loss: 68647.8651\n",
            "Epoch 4, Loss: 70288.2021\n",
            "Epoch 5, Loss: 72119.0272\n",
            "Epoch 6, Loss: 73160.0496\n",
            "Epoch 7, Loss: 74061.1521\n",
            "Epoch 8, Loss: 73732.3807\n",
            "Epoch 9, Loss: 73739.8307\n",
            "Epoch 10, Loss: 74553.9438\n",
            "Epoch 11, Loss: 75055.3798\n",
            "Epoch 12, Loss: 75368.0104\n",
            "Epoch 13, Loss: 77679.2186\n",
            "Epoch 14, Loss: 77077.3752\n",
            "Epoch 15, Loss: 78900.0676\n",
            "Epoch 16, Loss: 77666.6669\n",
            "Epoch 17, Loss: 79325.1675\n",
            "Epoch 18, Loss: 79220.6621\n",
            "Epoch 19, Loss: 80541.2054\n",
            "Epoch 20, Loss: 80937.1674\n"
          ]
        }
      ]
    },
    {
      "cell_type": "code",
      "source": [
        "import torch.nn.functional as F\n",
        "\n",
        "def suggest_next_words(model, text_prompt, top_k=3):\n",
        "    model.eval()\n",
        "    tokens = word_tokenize(text_prompt.lower())\n",
        "    if len(tokens) < sequence_length - 1:\n",
        "        raise ValueError(f\"Input should be at least {sequence_length - 1} words long.\")\n",
        "\n",
        "    input_seq = tokens[-(sequence_length - 1):]\n",
        "    input_tensor = torch.tensor(encode(input_seq)).unsqueeze(0)\n",
        "\n",
        "    with torch.no_grad():\n",
        "        output = model(input_tensor)\n",
        "        probs = F.softmax(output, dim=1).squeeze()\n",
        "        top_indices = torch.topk(probs, top_k).indices.tolist()\n",
        "\n",
        "    return [idx2word[idx] for idx in top_indices]\n",
        "\n",
        "print(\"Suggestions:\", suggest_next_words(model, \"So, are we really at\"))"
      ],
      "metadata": {
        "colab": {
          "base_uri": "https://localhost:8080/"
        },
        "id": "tHnn8fZkFyGB",
        "outputId": "f52a1279-b95c-440c-a370-0df8e7cfda45"
      },
      "execution_count": 8,
      "outputs": [
        {
          "output_type": "stream",
          "name": "stdout",
          "text": [
            "Suggestions: ['the', 'me', 'it']\n"
          ]
        }
      ]
    }
  ]
}